{
 "cells": [
  {
   "cell_type": "markdown",
   "id": "171daf63",
   "metadata": {},
   "source": [
    "# Table of Content\n",
    "\n",
    "1. Importing libraries and datasets\n",
    "2. User-defined function and subsetting\n",
    "3. Deriving price_range variable for whole dataset\n",
    "4. Deriving busiest_days variable for whole dataset\n",
    "5. Deriving busiest_period_of_day variable\n",
    "6. Exporting new dataframe"
   ]
  },
  {
   "cell_type": "markdown",
   "id": "fedd7725-0966-4664-917f-ee8290108282",
   "metadata": {},
   "source": [
    "# Importing libraries and datasets"
   ]
  },
  {
   "cell_type": "code",
   "execution_count": 1,
   "id": "42f660b8-4599-435f-8d05-4d6703b01903",
   "metadata": {},
   "outputs": [],
   "source": [
    "# Import libraries\n",
    "\n",
    "import pandas as pd\n",
    "import numpy as np\n",
    "import os\n",
    "import pickle"
   ]
  },
  {
   "cell_type": "code",
   "execution_count": 2,
   "id": "c7c7d116-5729-4de3-8a38-368f89703400",
   "metadata": {},
   "outputs": [],
   "source": [
    "# Define path\n",
    "path = r'/Users/frederikeschulz-mullensiefen/Desktop/Master Folder_Instacart/02_Data'"
   ]
  },
  {
   "cell_type": "code",
   "execution_count": 3,
   "id": "f70b93fc-86cb-43fb-a0d4-5adb15126a77",
   "metadata": {},
   "outputs": [],
   "source": [
    "# Import orders_products_combined dataframe\n",
    "df_ords_prods_merge = pd.read_pickle(os.path.join(path, 'Prepared Data', 'ords_prods_merge.pkl'))"
   ]
  },
  {
   "cell_type": "markdown",
   "id": "ca8968b6-bca1-4fc0-85c5-ab67bd047669",
   "metadata": {},
   "source": [
    "# User-defined function and subset "
   ]
  },
  {
   "cell_type": "code",
   "execution_count": 4,
   "id": "40a0ed40-e801-408b-af0d-ab26a805031d",
   "metadata": {},
   "outputs": [],
   "source": [
    "# Creating a subset of merged dataset with 1000000 rows\n",
    "df = df_ords_prods_merge[:1000000]"
   ]
  },
  {
   "cell_type": "code",
   "execution_count": 5,
   "id": "a0262375-8772-4784-8a12-2f12f175d45f",
   "metadata": {},
   "outputs": [],
   "source": [
    "# Create new variable (price_label) and user-defined function\n",
    "def price_label(row):\n",
    "    if row['prices'] <= 5:\n",
    "        return 'Low-range product'\n",
    "    elif (row['prices'] > 5) and (row['prices'] <= 15):\n",
    "        return 'Mid-range product'\n",
    "    elif row['prices'] > 15:\n",
    "        return 'High range'\n",
    "    else: return 'Not enough data'"
   ]
  },
  {
   "cell_type": "code",
   "execution_count": 6,
   "id": "10baaa6b-f19c-45df-bd0b-3bdd272c3691",
   "metadata": {},
   "outputs": [
    {
     "name": "stderr",
     "output_type": "stream",
     "text": [
      "/var/folders/6r/_pj4fghj6jx_vml8b8yvngzh0000gn/T/ipykernel_1680/4064251368.py:2: SettingWithCopyWarning: \n",
      "A value is trying to be set on a copy of a slice from a DataFrame.\n",
      "Try using .loc[row_indexer,col_indexer] = value instead\n",
      "\n",
      "See the caveats in the documentation: https://pandas.pydata.org/pandas-docs/stable/user_guide/indexing.html#returning-a-view-versus-a-copy\n",
      "  df['price_range'] = df.apply(price_label, axis=1)\n"
     ]
    }
   ],
   "source": [
    "# Running user-defined function on df subset\n",
    "df['price_range'] = df.apply(price_label, axis=1)"
   ]
  },
  {
   "cell_type": "code",
   "execution_count": 7,
   "id": "42c3148e-1db4-47de-825b-5f37debe8288",
   "metadata": {},
   "outputs": [
    {
     "data": {
      "text/plain": [
       "price_range\n",
       "Mid-range product    756450\n",
       "Low-range product    243550\n",
       "Name: count, dtype: int64"
      ]
     },
     "execution_count": 7,
     "metadata": {},
     "output_type": "execute_result"
    }
   ],
   "source": [
    "# Frequency of product price labels\n",
    "df['price_range'].value_counts(dropna = False)"
   ]
  },
  {
   "cell_type": "markdown",
   "id": "127d6c21-0086-4b1f-9dcf-80072a0ea998",
   "metadata": {},
   "source": [
    "# Deriving price_range variable for whole dataset "
   ]
  },
  {
   "cell_type": "code",
   "execution_count": 8,
   "id": "18840640-6c9a-40ab-8fdb-79d13e747ed9",
   "metadata": {},
   "outputs": [],
   "source": [
    "# Defining if-statement for high-range product\n",
    "df_ords_prods_merge.loc[df_ords_prods_merge['prices'] > 15, 'price_range'] = 'High-range product'"
   ]
  },
  {
   "cell_type": "code",
   "execution_count": 9,
   "id": "e3941d51-9a8e-42de-9994-31906a458a08",
   "metadata": {},
   "outputs": [],
   "source": [
    "# Defining if-statement for mid-range product\n",
    "df_ords_prods_merge.loc[(df_ords_prods_merge['prices'] <= 15) & (df_ords_prods_merge['prices'] > 5), 'price_range'] = 'Mid-range product'"
   ]
  },
  {
   "cell_type": "code",
   "execution_count": 10,
   "id": "6d0ecd2f-3377-4c16-b93b-34578bf98185",
   "metadata": {},
   "outputs": [],
   "source": [
    "# Defining if-statement for low-range product\n",
    "df_ords_prods_merge.loc[df_ords_prods_merge['prices'] <= 5, 'price_range'] = 'Low-range product'"
   ]
  },
  {
   "cell_type": "code",
   "execution_count": 11,
   "id": "64c8a5ba-c499-4fdf-a308-d967c8b6b1cd",
   "metadata": {},
   "outputs": [
    {
     "data": {
      "text/plain": [
       "price_range\n",
       "Mid-range product     21860860\n",
       "Low-range product     10126321\n",
       "High-range product      417678\n",
       "Name: count, dtype: int64"
      ]
     },
     "execution_count": 11,
     "metadata": {},
     "output_type": "execute_result"
    }
   ],
   "source": [
    "# Frequency for product price labels\n",
    "df_ords_prods_merge['price_range'].value_counts(dropna = False)"
   ]
  },
  {
   "cell_type": "markdown",
   "id": "a8c471c7-f185-42d5-9373-24453a322ffe",
   "metadata": {},
   "source": [
    "# Deriving busiest_days variable for whole dataset "
   ]
  },
  {
   "cell_type": "code",
   "execution_count": 12,
   "id": "d1774cad-a5e2-4b9e-9c22-249f7d491983",
   "metadata": {},
   "outputs": [],
   "source": [
    "# Defining if-statement for busiest days\n",
    "df_ords_prods_merge.loc[df_ords_prods_merge['orders_day_of_week'].isin([0,1]), 'busiest_days'] = 'Busiest days'"
   ]
  },
  {
   "cell_type": "code",
   "execution_count": 13,
   "id": "640c2ed5-dfb6-423c-a3d9-cf45006e2242",
   "metadata": {},
   "outputs": [],
   "source": [
    "# Defining if-statement for slowest days\n",
    "df_ords_prods_merge.loc[df_ords_prods_merge['orders_day_of_week'].isin([3,4]), 'busiest_days'] = 'Slowest days'"
   ]
  },
  {
   "cell_type": "code",
   "execution_count": 14,
   "id": "de105106-986b-4a12-a378-481155523f32",
   "metadata": {},
   "outputs": [],
   "source": [
    "# Defining if-statement for busiest days\n",
    "df_ords_prods_merge.loc[df_ords_prods_merge['orders_day_of_week'].isin([6,2,5]), 'busiest_days'] = 'Regular days'"
   ]
  },
  {
   "cell_type": "code",
   "execution_count": 15,
   "id": "4681b87b-258c-49e8-97a7-9db8a7b71239",
   "metadata": {},
   "outputs": [
    {
     "data": {
      "text/plain": [
       "busiest_days\n",
       "Regular days    12916111\n",
       "Busiest days    11864412\n",
       "Slowest days     7624336\n",
       "Name: count, dtype: int64"
      ]
     },
     "execution_count": 15,
     "metadata": {},
     "output_type": "execute_result"
    }
   ],
   "source": [
    "# Frequency of busiest days\n",
    "df_ords_prods_merge['busiest_days'].value_counts(dropna = False)"
   ]
  },
  {
   "cell_type": "markdown",
   "id": "d5ab8823-ed04-415e-8847-d0511c2e72be",
   "metadata": {},
   "source": [
    "The values is the frequency table are correct. "
   ]
  },
  {
   "cell_type": "markdown",
   "id": "3e63e98a-b1ee-4e7c-9448-de67c7db831b",
   "metadata": {},
   "source": [
    "# Deriving busiest_period_of_day variable"
   ]
  },
  {
   "cell_type": "code",
   "execution_count": 16,
   "id": "e641cd13-4c7e-4e41-8143-a5bf42d8c047",
   "metadata": {},
   "outputs": [
    {
     "data": {
      "text/plain": [
       "ordertime_hour_of_day\n",
       "10    2761760\n",
       "11    2736140\n",
       "14    2689136\n",
       "15    2662144\n",
       "13    2660954\n",
       "12    2618532\n",
       "16    2535202\n",
       "9     2454203\n",
       "17    2087654\n",
       "8     1718118\n",
       "18    1636502\n",
       "19    1258305\n",
       "20     976156\n",
       "7      891054\n",
       "21     795637\n",
       "22     634225\n",
       "23     402316\n",
       "6      290493\n",
       "0      218769\n",
       "1      115700\n",
       "5       87961\n",
       "2       69375\n",
       "4       53242\n",
       "3       51281\n",
       "Name: count, dtype: int64"
      ]
     },
     "execution_count": 16,
     "metadata": {},
     "output_type": "execute_result"
    }
   ],
   "source": [
    "# Frequency of order hours\n",
    "df_ords_prods_merge['ordertime_hour_of_day'].value_counts(dropna = False)"
   ]
  },
  {
   "cell_type": "code",
   "execution_count": 17,
   "id": "52279afe-416d-4484-b875-41ed2417552e",
   "metadata": {},
   "outputs": [],
   "source": [
    "# Defining if-statement for busiest hours of day\n",
    "df_ords_prods_merge.loc[df_ords_prods_merge['ordertime_hour_of_day'].isin([10,11,14,15,13,12,16,9]), 'busiest_period_of_day'] = 'Most orders'"
   ]
  },
  {
   "cell_type": "code",
   "execution_count": 18,
   "id": "242ac5b0-7eef-4e7e-b813-e82226815896",
   "metadata": {},
   "outputs": [],
   "source": [
    "# Defining if-statement for normal hours of day\n",
    "df_ords_prods_merge.loc[df_ords_prods_merge['ordertime_hour_of_day'].isin([17,8,18,19,20,7,21,22]), 'busiest_period_of_day'] = 'Average orders'"
   ]
  },
  {
   "cell_type": "code",
   "execution_count": 19,
   "id": "9228b507-058b-48c6-8eb6-58b730eb625d",
   "metadata": {},
   "outputs": [],
   "source": [
    "# Defining if-statement for least busy hours of day\n",
    "df_ords_prods_merge.loc[df_ords_prods_merge['ordertime_hour_of_day'].isin([23,6,0,1,5,2,4,3]), 'busiest_period_of_day'] = 'Least orders'"
   ]
  },
  {
   "cell_type": "code",
   "execution_count": 20,
   "id": "9fedff44-270a-49eb-8e15-52c37b0b13fd",
   "metadata": {},
   "outputs": [
    {
     "data": {
      "text/plain": [
       "busiest_period_of_day\n",
       "Most orders       21118071\n",
       "Average orders     9997651\n",
       "Least orders       1289137\n",
       "Name: count, dtype: int64"
      ]
     },
     "execution_count": 20,
     "metadata": {},
     "output_type": "execute_result"
    }
   ],
   "source": [
    "# Frequency of order hours labels\n",
    "df_ords_prods_merge['busiest_period_of_day'].value_counts(dropna = False)"
   ]
  },
  {
   "cell_type": "markdown",
   "id": "3b9402ce-ef0d-4049-a721-40de611b10e4",
   "metadata": {},
   "source": [
    "# Exporting new dataframe"
   ]
  },
  {
   "cell_type": "code",
   "execution_count": 21,
   "id": "66a0666f-8d5d-4f59-bb1c-418092cd06ff",
   "metadata": {},
   "outputs": [],
   "source": [
    "df_ords_prods_merge.to_pickle(os.path.join(path,'Prepared Data', 'ords_prods_new_variables.pkl'))"
   ]
  },
  {
   "cell_type": "code",
   "execution_count": null,
   "id": "ff17d5fb-2cfb-4156-ace1-6f2b63617e28",
   "metadata": {},
   "outputs": [],
   "source": []
  }
 ],
 "metadata": {
  "kernelspec": {
   "display_name": "Python 3 (ipykernel)",
   "language": "python",
   "name": "python3"
  },
  "language_info": {
   "codemirror_mode": {
    "name": "ipython",
    "version": 3
   },
   "file_extension": ".py",
   "mimetype": "text/x-python",
   "name": "python",
   "nbconvert_exporter": "python",
   "pygments_lexer": "ipython3",
   "version": "3.11.7"
  }
 },
 "nbformat": 4,
 "nbformat_minor": 5
}
