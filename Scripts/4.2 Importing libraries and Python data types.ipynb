{
 "cells": [
  {
   "cell_type": "markdown",
   "id": "ab499e0a",
   "metadata": {},
   "source": [
    "# Table of Content:\n",
    "\n",
    "01. Importing libraries\n",
    "02. Working with Python Data Types"
   ]
  },
  {
   "cell_type": "markdown",
   "id": "cc4afcfc-8c00-41e4-9104-3b32ba6502c2",
   "metadata": {},
   "source": [
    "# 01. Importing libraries "
   ]
  },
  {
   "cell_type": "code",
   "execution_count": 1,
   "id": "a33b3f5a-294f-4fbf-b0e7-a29a51fb86d4",
   "metadata": {},
   "outputs": [],
   "source": [
    "# Import libraries\n",
    "import pandas as pd\n",
    "import numpy as np\n",
    "import os"
   ]
  },
  {
   "cell_type": "markdown",
   "id": "08bfc21e-0706-4414-961b-a7850611647b",
   "metadata": {},
   "source": [
    "# 02. Working with Python data types"
   ]
  },
  {
   "cell_type": "code",
   "execution_count": 30,
   "id": "d7dfc898-b938-404e-855e-f68ca57186f0",
   "metadata": {},
   "outputs": [],
   "source": [
    "# 3 Different ways of reaching 100\n",
    "w = 40\n",
    "x = 50\n",
    "y = 60\n",
    "z = 10"
   ]
  },
  {
   "cell_type": "code",
   "execution_count": 31,
   "id": "18ea5157-64f1-4c89-a2fa-dad0c5ec2352",
   "metadata": {},
   "outputs": [
    {
     "data": {
      "text/plain": [
       "100"
      ]
     },
     "execution_count": 31,
     "metadata": {},
     "output_type": "execute_result"
    }
   ],
   "source": [
    "w + y"
   ]
  },
  {
   "cell_type": "code",
   "execution_count": 32,
   "id": "40bccc4d-1f22-4653-a76d-714e51d9c18f",
   "metadata": {},
   "outputs": [
    {
     "data": {
      "text/plain": [
       "100"
      ]
     },
     "execution_count": 32,
     "metadata": {},
     "output_type": "execute_result"
    }
   ],
   "source": [
    "w + x + z"
   ]
  },
  {
   "cell_type": "code",
   "execution_count": 33,
   "id": "54bc0aed-43d9-44b7-9ca3-cdbf927f10e2",
   "metadata": {},
   "outputs": [
    {
     "data": {
      "text/plain": [
       "100"
      ]
     },
     "execution_count": 33,
     "metadata": {},
     "output_type": "execute_result"
    }
   ],
   "source": [
    "x + y - z"
   ]
  },
  {
   "cell_type": "code",
   "execution_count": 39,
   "id": "3155a194-7e4e-4ed8-9d6a-d81403c79918",
   "metadata": {},
   "outputs": [],
   "source": [
    "# Dividing Floats\n",
    "q = 25.25\n",
    "u = 2.5"
   ]
  },
  {
   "cell_type": "code",
   "execution_count": 41,
   "id": "b5207df2-a32e-4a99-a19d-738f78a3acba",
   "metadata": {},
   "outputs": [
    {
     "data": {
      "text/plain": [
       "10.1"
      ]
     },
     "execution_count": 41,
     "metadata": {},
     "output_type": "execute_result"
    }
   ],
   "source": [
    "q / u"
   ]
  },
  {
   "cell_type": "code",
   "execution_count": 46,
   "id": "1c137170-9168-4762-b2a8-994b04b50cc5",
   "metadata": {},
   "outputs": [],
   "source": [
    "# Constructing with separate strings\n",
    "a = 'jo'\n",
    "b = 'ker'"
   ]
  },
  {
   "cell_type": "code",
   "execution_count": 47,
   "id": "ecd81368-4e8c-4e7c-bb09-5b7962bae4f4",
   "metadata": {},
   "outputs": [
    {
     "data": {
      "text/plain": [
       "'joker'"
      ]
     },
     "execution_count": 47,
     "metadata": {},
     "output_type": "execute_result"
    }
   ],
   "source": [
    "a + b"
   ]
  },
  {
   "cell_type": "code",
   "execution_count": 48,
   "id": "38d99992-4e4c-42bd-b981-1ba29b9b8797",
   "metadata": {},
   "outputs": [],
   "source": [
    "c = 'I am ' \n",
    "d = 'learning ' \n",
    "e = 'Python.'"
   ]
  },
  {
   "cell_type": "code",
   "execution_count": 49,
   "id": "8ec73bb9-4c94-433b-9c6e-0e367fbbc25c",
   "metadata": {},
   "outputs": [
    {
     "data": {
      "text/plain": [
       "'I am learning Python.'"
      ]
     },
     "execution_count": 49,
     "metadata": {},
     "output_type": "execute_result"
    }
   ],
   "source": [
    "c + d + e"
   ]
  }
 ],
 "metadata": {
  "kernelspec": {
   "display_name": "Python 3 (ipykernel)",
   "language": "python",
   "name": "python3"
  },
  "language_info": {
   "codemirror_mode": {
    "name": "ipython",
    "version": 3
   },
   "file_extension": ".py",
   "mimetype": "text/x-python",
   "name": "python",
   "nbconvert_exporter": "python",
   "pygments_lexer": "ipython3",
   "version": "3.11.7"
  }
 },
 "nbformat": 4,
 "nbformat_minor": 5
}
