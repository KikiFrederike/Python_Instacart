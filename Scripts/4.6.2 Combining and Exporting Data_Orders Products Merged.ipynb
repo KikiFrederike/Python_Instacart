{
 "cells": [
  {
   "cell_type": "markdown",
   "id": "7fa89194",
   "metadata": {},
   "source": [
    "# Table of Content\n",
    "\n",
    "1. Importing libraries and datasets\n",
    "2. Check shape of imported dataframes\n",
    "3. Merging datasets\n",
    "4. Export merged dataset"
   ]
  },
  {
   "cell_type": "markdown",
   "id": "40f4fe47-f394-41ee-b4db-12a4ef28b0a9",
   "metadata": {},
   "source": [
    "# Importing libraries and datasets"
   ]
  },
  {
   "cell_type": "code",
   "execution_count": 4,
   "id": "ea214b93-5e28-4d88-bb9b-568cbe44df8d",
   "metadata": {},
   "outputs": [],
   "source": [
    "# Import libraries\n",
    "\n",
    "import pandas as pd\n",
    "import numpy as np\n",
    "import os\n",
    "import pickle"
   ]
  },
  {
   "cell_type": "code",
   "execution_count": 5,
   "id": "0e29d85d-77ab-4279-9a91-9124e8d741d3",
   "metadata": {},
   "outputs": [],
   "source": [
    "# Define path\n",
    "\n",
    "path = r'/Users/frederikeschulz-mullensiefen/Desktop/Master Folder_Instacart/02_Data'"
   ]
  },
  {
   "cell_type": "code",
   "execution_count": 6,
   "id": "16b2c201-9437-4bc5-9332-40e295b2acdf",
   "metadata": {},
   "outputs": [],
   "source": [
    "# Import products dataframe\n",
    "df_products = pd.read_csv(os.path.join(path, 'Prepared Data', 'products_checked.csv'), index_col = False)"
   ]
  },
  {
   "cell_type": "code",
   "execution_count": 7,
   "id": "276cdf87-8f68-415f-9bad-2202fb8aed1d",
   "metadata": {},
   "outputs": [],
   "source": [
    "# Import orders_products_combined dataframe\n",
    "df_orders_products = pd.read_pickle(os.path.join(path, 'Prepared Data', 'orders_products_combined.pkl'))"
   ]
  },
  {
   "cell_type": "markdown",
   "id": "a79ca2df-38b5-47d4-8f3d-9edcb836a766",
   "metadata": {},
   "source": [
    "# Check shape of imported dataframes"
   ]
  },
  {
   "cell_type": "code",
   "execution_count": 8,
   "id": "86fc3585-253e-4144-955a-2167dd4b4680",
   "metadata": {},
   "outputs": [
    {
     "data": {
      "text/plain": [
       "(32434489, 9)"
      ]
     },
     "execution_count": 8,
     "metadata": {},
     "output_type": "execute_result"
    }
   ],
   "source": [
    "# Check shape of first dataframe\n",
    "df_orders_products.shape"
   ]
  },
  {
   "cell_type": "code",
   "execution_count": 9,
   "id": "2682b76a-bb9f-4a81-849e-1bd908f80103",
   "metadata": {},
   "outputs": [
    {
     "data": {
      "text/plain": [
       "(49672, 5)"
      ]
     },
     "execution_count": 9,
     "metadata": {},
     "output_type": "execute_result"
    }
   ],
   "source": [
    "# Check shape of second dataframe\n",
    "df_products.shape"
   ]
  },
  {
   "cell_type": "markdown",
   "id": "67836d07-03db-4f39-a038-6259d5e24a95",
   "metadata": {},
   "source": [
    "Shape of imported dataframes matches dataframes before export. "
   ]
  },
  {
   "cell_type": "markdown",
   "id": "e49510a8-586c-4793-ba7f-558cf63b559b",
   "metadata": {},
   "source": [
    "# Merging df_orders_products and df_products"
   ]
  },
  {
   "cell_type": "code",
   "execution_count": 10,
   "id": "64fa0b23-c42c-4754-accb-9d64bc56907a",
   "metadata": {},
   "outputs": [
    {
     "data": {
      "text/html": [
       "<div>\n",
       "<style scoped>\n",
       "    .dataframe tbody tr th:only-of-type {\n",
       "        vertical-align: middle;\n",
       "    }\n",
       "\n",
       "    .dataframe tbody tr th {\n",
       "        vertical-align: top;\n",
       "    }\n",
       "\n",
       "    .dataframe thead th {\n",
       "        text-align: right;\n",
       "    }\n",
       "</style>\n",
       "<table border=\"1\" class=\"dataframe\">\n",
       "  <thead>\n",
       "    <tr style=\"text-align: right;\">\n",
       "      <th></th>\n",
       "      <th>order_id</th>\n",
       "      <th>user_id</th>\n",
       "      <th>order_number</th>\n",
       "      <th>orders_day_of_week</th>\n",
       "      <th>ordertime_hour_of_day</th>\n",
       "      <th>days_since_prior_order</th>\n",
       "      <th>product_id</th>\n",
       "      <th>add_to_cart_order</th>\n",
       "      <th>reordered</th>\n",
       "    </tr>\n",
       "  </thead>\n",
       "  <tbody>\n",
       "    <tr>\n",
       "      <th>0</th>\n",
       "      <td>2539329</td>\n",
       "      <td>1</td>\n",
       "      <td>1</td>\n",
       "      <td>2</td>\n",
       "      <td>8</td>\n",
       "      <td>NaN</td>\n",
       "      <td>196</td>\n",
       "      <td>1</td>\n",
       "      <td>0</td>\n",
       "    </tr>\n",
       "    <tr>\n",
       "      <th>1</th>\n",
       "      <td>2539329</td>\n",
       "      <td>1</td>\n",
       "      <td>1</td>\n",
       "      <td>2</td>\n",
       "      <td>8</td>\n",
       "      <td>NaN</td>\n",
       "      <td>14084</td>\n",
       "      <td>2</td>\n",
       "      <td>0</td>\n",
       "    </tr>\n",
       "    <tr>\n",
       "      <th>2</th>\n",
       "      <td>2539329</td>\n",
       "      <td>1</td>\n",
       "      <td>1</td>\n",
       "      <td>2</td>\n",
       "      <td>8</td>\n",
       "      <td>NaN</td>\n",
       "      <td>12427</td>\n",
       "      <td>3</td>\n",
       "      <td>0</td>\n",
       "    </tr>\n",
       "    <tr>\n",
       "      <th>3</th>\n",
       "      <td>2539329</td>\n",
       "      <td>1</td>\n",
       "      <td>1</td>\n",
       "      <td>2</td>\n",
       "      <td>8</td>\n",
       "      <td>NaN</td>\n",
       "      <td>26088</td>\n",
       "      <td>4</td>\n",
       "      <td>0</td>\n",
       "    </tr>\n",
       "    <tr>\n",
       "      <th>4</th>\n",
       "      <td>2539329</td>\n",
       "      <td>1</td>\n",
       "      <td>1</td>\n",
       "      <td>2</td>\n",
       "      <td>8</td>\n",
       "      <td>NaN</td>\n",
       "      <td>26405</td>\n",
       "      <td>5</td>\n",
       "      <td>0</td>\n",
       "    </tr>\n",
       "  </tbody>\n",
       "</table>\n",
       "</div>"
      ],
      "text/plain": [
       "   order_id  user_id  order_number  orders_day_of_week  ordertime_hour_of_day  \\\n",
       "0   2539329        1             1                   2                      8   \n",
       "1   2539329        1             1                   2                      8   \n",
       "2   2539329        1             1                   2                      8   \n",
       "3   2539329        1             1                   2                      8   \n",
       "4   2539329        1             1                   2                      8   \n",
       "\n",
       "   days_since_prior_order  product_id  add_to_cart_order  reordered  \n",
       "0                     NaN         196                  1          0  \n",
       "1                     NaN       14084                  2          0  \n",
       "2                     NaN       12427                  3          0  \n",
       "3                     NaN       26088                  4          0  \n",
       "4                     NaN       26405                  5          0  "
      ]
     },
     "execution_count": 10,
     "metadata": {},
     "output_type": "execute_result"
    }
   ],
   "source": [
    "# Checking columns to identify common key\n",
    "df_orders_products.head()"
   ]
  },
  {
   "cell_type": "code",
   "execution_count": 11,
   "id": "77a2c0f8-3e2b-44cb-9f74-4b7c7c3f42dd",
   "metadata": {},
   "outputs": [
    {
     "data": {
      "text/html": [
       "<div>\n",
       "<style scoped>\n",
       "    .dataframe tbody tr th:only-of-type {\n",
       "        vertical-align: middle;\n",
       "    }\n",
       "\n",
       "    .dataframe tbody tr th {\n",
       "        vertical-align: top;\n",
       "    }\n",
       "\n",
       "    .dataframe thead th {\n",
       "        text-align: right;\n",
       "    }\n",
       "</style>\n",
       "<table border=\"1\" class=\"dataframe\">\n",
       "  <thead>\n",
       "    <tr style=\"text-align: right;\">\n",
       "      <th></th>\n",
       "      <th>product_id</th>\n",
       "      <th>product_name</th>\n",
       "      <th>aisle_id</th>\n",
       "      <th>department_id</th>\n",
       "      <th>prices</th>\n",
       "    </tr>\n",
       "  </thead>\n",
       "  <tbody>\n",
       "    <tr>\n",
       "      <th>0</th>\n",
       "      <td>1</td>\n",
       "      <td>Chocolate Sandwich Cookies</td>\n",
       "      <td>61</td>\n",
       "      <td>19</td>\n",
       "      <td>5.8</td>\n",
       "    </tr>\n",
       "    <tr>\n",
       "      <th>1</th>\n",
       "      <td>2</td>\n",
       "      <td>All-Seasons Salt</td>\n",
       "      <td>104</td>\n",
       "      <td>13</td>\n",
       "      <td>9.3</td>\n",
       "    </tr>\n",
       "    <tr>\n",
       "      <th>2</th>\n",
       "      <td>3</td>\n",
       "      <td>Robust Golden Unsweetened Oolong Tea</td>\n",
       "      <td>94</td>\n",
       "      <td>7</td>\n",
       "      <td>4.5</td>\n",
       "    </tr>\n",
       "    <tr>\n",
       "      <th>3</th>\n",
       "      <td>4</td>\n",
       "      <td>Smart Ones Classic Favorites Mini Rigatoni Wit...</td>\n",
       "      <td>38</td>\n",
       "      <td>1</td>\n",
       "      <td>10.5</td>\n",
       "    </tr>\n",
       "    <tr>\n",
       "      <th>4</th>\n",
       "      <td>5</td>\n",
       "      <td>Green Chile Anytime Sauce</td>\n",
       "      <td>5</td>\n",
       "      <td>13</td>\n",
       "      <td>4.3</td>\n",
       "    </tr>\n",
       "  </tbody>\n",
       "</table>\n",
       "</div>"
      ],
      "text/plain": [
       "   product_id                                       product_name  aisle_id  \\\n",
       "0           1                         Chocolate Sandwich Cookies        61   \n",
       "1           2                                   All-Seasons Salt       104   \n",
       "2           3               Robust Golden Unsweetened Oolong Tea        94   \n",
       "3           4  Smart Ones Classic Favorites Mini Rigatoni Wit...        38   \n",
       "4           5                          Green Chile Anytime Sauce         5   \n",
       "\n",
       "   department_id  prices  \n",
       "0             19     5.8  \n",
       "1             13     9.3  \n",
       "2              7     4.5  \n",
       "3              1    10.5  \n",
       "4             13     4.3  "
      ]
     },
     "execution_count": 11,
     "metadata": {},
     "output_type": "execute_result"
    }
   ],
   "source": [
    "# Checking columns to identify common key\n",
    "df_products.head()"
   ]
  },
  {
   "cell_type": "markdown",
   "id": "733ac959-a4a9-4e7b-8f54-ca2f6e8d3eac",
   "metadata": {},
   "source": [
    "The 'product_id' is a common key that can be used for merging the dataframes together. "
   ]
  },
  {
   "cell_type": "code",
   "execution_count": 12,
   "id": "377cdda6-039e-43f7-89af-f958d93eb51d",
   "metadata": {},
   "outputs": [],
   "source": [
    "# Create full merge for checking match between datasets\n",
    "df_fullmerge = df_orders_products.merge(df_products, on ='product_id', how ='outer', indicator = True)"
   ]
  },
  {
   "cell_type": "code",
   "execution_count": 13,
   "id": "41f54af8-0566-4c96-91c6-a81ccf77b269",
   "metadata": {},
   "outputs": [
    {
     "data": {
      "text/plain": [
       "_merge\n",
       "both          32404859\n",
       "left_only        30200\n",
       "right_only          11\n",
       "Name: count, dtype: int64"
      ]
     },
     "execution_count": 13,
     "metadata": {},
     "output_type": "execute_result"
    }
   ],
   "source": [
    "# Checking match between datasets\n",
    "df_fullmerge['_merge'].value_counts()"
   ]
  },
  {
   "cell_type": "markdown",
   "id": "be71f415-fbd7-436c-8766-40515d82e1bc",
   "metadata": {},
   "source": [
    "There is no full match between the datasets. However, for this analysis we are only interested in full matches, as we need to have orders and products connected to analyze the performance. "
   ]
  },
  {
   "cell_type": "code",
   "execution_count": 16,
   "id": "c00d312c-4e3a-41c1-8cd0-67ad47f334c0",
   "metadata": {},
   "outputs": [],
   "source": [
    "# Create inner merge for checking match between datasets\n",
    "df_merged = df_orders_products.merge(df_products, on ='product_id', indicator = True)"
   ]
  },
  {
   "cell_type": "code",
   "execution_count": 17,
   "id": "2e67701f-6ab2-4201-8ebe-020c558ce62a",
   "metadata": {},
   "outputs": [
    {
     "data": {
      "text/plain": [
       "_merge\n",
       "both          32404859\n",
       "left_only            0\n",
       "right_only           0\n",
       "Name: count, dtype: int64"
      ]
     },
     "execution_count": 17,
     "metadata": {},
     "output_type": "execute_result"
    }
   ],
   "source": [
    "# Checking match between datasets\n",
    "df_merged['_merge'].value_counts()"
   ]
  },
  {
   "cell_type": "code",
   "execution_count": 18,
   "id": "38d901af-74de-44d3-bded-10df9ec42d46",
   "metadata": {},
   "outputs": [],
   "source": [
    "# Create merged dataset without indicator flag for export\n",
    "df_merged_final = df_orders_products.merge(df_products, on ='product_id')"
   ]
  },
  {
   "cell_type": "code",
   "execution_count": 19,
   "id": "65c89593-93bb-49a0-b90c-b1ade206851e",
   "metadata": {},
   "outputs": [
    {
     "data": {
      "text/plain": [
       "(32404859, 13)"
      ]
     },
     "execution_count": 19,
     "metadata": {},
     "output_type": "execute_result"
    }
   ],
   "source": [
    "# Check dataframe shape\n",
    "df_merged_final.shape"
   ]
  },
  {
   "cell_type": "markdown",
   "id": "642c6b61-73e3-49a4-9482-aa21d6e134e9",
   "metadata": {},
   "source": [
    "# Export merged dataset"
   ]
  },
  {
   "cell_type": "code",
   "execution_count": 21,
   "id": "4f8a340e-c976-4e37-96d9-da4b09f20ddf",
   "metadata": {},
   "outputs": [],
   "source": [
    "df_merged_final.to_pickle(os.path.join(path,'Prepared Data', 'ords_prods_merge.pkl'))"
   ]
  },
  {
   "cell_type": "code",
   "execution_count": null,
   "id": "8e4685ce-e0a5-4dfc-a4ec-269c94a4c0dc",
   "metadata": {},
   "outputs": [],
   "source": []
  }
 ],
 "metadata": {
  "kernelspec": {
   "display_name": "Python 3 (ipykernel)",
   "language": "python",
   "name": "python3"
  },
  "language_info": {
   "codemirror_mode": {
    "name": "ipython",
    "version": 3
   },
   "file_extension": ".py",
   "mimetype": "text/x-python",
   "name": "python",
   "nbconvert_exporter": "python",
   "pygments_lexer": "ipython3",
   "version": "3.11.7"
  }
 },
 "nbformat": 4,
 "nbformat_minor": 5
}
